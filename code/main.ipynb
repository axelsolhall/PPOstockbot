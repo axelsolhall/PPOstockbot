{
 "cells": [
  {
   "cell_type": "code",
   "execution_count": 10,
   "metadata": {},
   "outputs": [
    {
     "name": "stdout",
     "output_type": "stream",
     "text": [
      "The autoreload extension is already loaded. To reload it, use:\n",
      "  %reload_ext autoreload\n"
     ]
    }
   ],
   "source": [
    "import IPython\n",
    "ipython = IPython.get_ipython()\n",
    "ipython.run_line_magic('load_ext', 'autoreload')\n",
    "ipython.run_line_magic('autoreload', '2')"
   ]
  },
  {
   "cell_type": "code",
   "execution_count": 11,
   "metadata": {},
   "outputs": [],
   "source": [
    "from dotenv import load_dotenv\n",
    "import sys, os, time\n",
    "\n",
    "import pandas as pd\n",
    "import numpy as np\n",
    "\n",
    "from modules.database import DB\n",
    "from modules.data_fetcher import DataFetcher\n",
    "from modules.trading_env import TradingEnv"
   ]
  },
  {
   "cell_type": "code",
   "execution_count": 12,
   "metadata": {},
   "outputs": [
    {
     "name": "stdout",
     "output_type": "stream",
     "text": [
      "[('stock_data',)]\n"
     ]
    }
   ],
   "source": [
    "# Connect to database\n",
    "load_dotenv()\n",
    "DB_NAME = os.getenv(\"POSTGRES_DB\")\n",
    "DB_USER = os.getenv(\"POSTGRES_USER\")\n",
    "DB_PASS = os.getenv(\"POSTGRES_PASSWORD\")\n",
    "DB_HOST = os.getenv(\"POSTGRES_HOST\")\n",
    "DB_PORT = os.getenv(\"POSTGRES_PORT\")\n",
    "\n",
    "\n",
    "db = DB(DB_NAME, DB_USER, DB_PASS, DB_HOST, DB_PORT)\n",
    "res = db.list_tables()\n",
    "print(res)"
   ]
  },
  {
   "cell_type": "code",
   "execution_count": 13,
   "metadata": {},
   "outputs": [
    {
     "name": "stderr",
     "output_type": "stream",
     "text": [
      "[*********************100%***********************]  1 of 1 completed"
     ]
    },
    {
     "name": "stdout",
     "output_type": "stream",
     "text": [
      "        Date Ticker      Close       High        Low       Open     Volume\n",
      "0 2020-01-02   AAPL  72.716072  72.776598  71.466812  71.721019  135480400\n",
      "1 2020-01-03   AAPL  72.009132  72.771760  71.783977  71.941343  146322800\n",
      "2 2020-01-06   AAPL  72.582901  72.621639  70.876068  71.127858  118387200\n",
      "3 2020-01-07   AAPL  72.241554  72.849231  72.021238  72.592601  108872000\n",
      "4 2020-01-08   AAPL  73.403648  73.706279  71.943759  71.943759  132079200\n",
      "Index(['Date', 'Ticker', 'Close', 'High', 'Low', 'Open', 'Volume'], dtype='object')\n"
     ]
    },
    {
     "name": "stderr",
     "output_type": "stream",
     "text": [
      "\n"
     ]
    },
    {
     "name": "stdout",
     "output_type": "stream",
     "text": [
      "Creating table\n"
     ]
    }
   ],
   "source": [
    "# Fetch data\n",
    "data_fetcher = DataFetcher(db)\n",
    "\n",
    "# See format of data\n",
    "test_ticker = \"AAPL\"\n",
    "start_date = pd.to_datetime(\"2020-01-01\")\n",
    "end_date = pd.to_datetime(\"2021-01-01\")\n",
    "df = data_fetcher.fetch_stock_data(test_ticker, start_date, end_date)\n",
    "\n",
    "print(df.head())\n",
    "print(df.columns)\n",
    "\n",
    "# Create table\n",
    "stock_data_table_name = \"stock_data\"\n",
    "db.drop_table(stock_data_table_name)\n",
    "time.sleep(1)\n",
    "print(\"Creating table\") \n",
    "db.create_table_from_df(stock_data_table_name, df)"
   ]
  },
  {
   "cell_type": "code",
   "execution_count": 14,
   "metadata": {},
   "outputs": [
    {
     "name": "stderr",
     "output_type": "stream",
     "text": [
      "[*********************100%***********************]  1 of 1 completed\n",
      "[*********************100%***********************]  1 of 1 completed\n",
      "[*********************100%***********************]  1 of 1 completed\n",
      "[*********************100%***********************]  1 of 1 completed\n",
      "[*********************100%***********************]  1 of 1 completed\n"
     ]
    }
   ],
   "source": [
    "# Ingest data\n",
    "tickers = [\"AAPL\", \"MSFT\", \"GOOGL\", \"AMZN\", \"TSLA\"]\n",
    "start_date = pd.to_datetime(\"2015-01-01\")\n",
    "end_date = pd.to_datetime(\"2022-01-01\")\n",
    "\n",
    "for ticker in tickers:\n",
    "    data_fetcher.ingest_stock_data_to_db(stock_data_table_name, ticker, start_date, end_date)    "
   ]
  },
  {
   "cell_type": "code",
   "execution_count": 15,
   "metadata": {},
   "outputs": [],
   "source": [
    "# Add RSI\n",
    "for ticker in tickers:\n",
    "    db.add_rsi_column(stock_data_table_name, ticker, 14)\n"
   ]
  },
  {
   "cell_type": "code",
   "execution_count": 16,
   "metadata": {},
   "outputs": [
    {
     "name": "stdout",
     "output_type": "stream",
     "text": [
      "Time taken: 0.004533529281616211\n",
      "         date ticker      close       high        low       open     volume  \\\n",
      "0  2015-01-02   MSFT  40.152470  40.719207  39.963559  40.066602   27913900   \n",
      "1  2015-01-05   MSFT  39.783249  40.126724  39.714552  39.817594   39673900   \n",
      "2  2015-01-06   MSFT  39.199333  40.143894  39.104876  39.826179   36447900   \n",
      "3  2015-01-07   MSFT  39.697384  39.894883  39.061953  39.482711   29114100   \n",
      "4  2015-01-08   MSFT  40.865196  41.002587  40.118134  40.143894   29645200   \n",
      "5  2015-01-09   MSFT  40.521721  41.062698  40.272702  40.882374   23944200   \n",
      "6  2015-01-12   MSFT  40.015083  40.822257  39.808999  40.719211   23651900   \n",
      "7  2015-01-13   MSFT  39.809013  41.139987  39.551406  40.332817   35270600   \n",
      "8  2015-01-14   MSFT  39.465527  39.705963  39.173571  39.465527   29719600   \n",
      "9  2015-01-15   MSFT  39.053356  39.826181  38.993248  39.688790   32750800   \n",
      "10 2015-01-16   MSFT  39.705959  39.740305  38.787155  38.907375   35695300   \n",
      "11 2015-01-20   MSFT  39.834766  40.058028  39.130638  39.757484   36161900   \n",
      "12 2015-01-21   MSFT  39.431183  39.620096  39.053359  39.448357   39081100   \n",
      "13 2015-01-22   MSFT  40.470215  40.478800  39.568588  39.826195   35898000   \n",
      "14 2015-01-23   MSFT  40.513142  40.693466  40.186837  40.667707   26211600   \n",
      "15 2015-01-26   MSFT  40.367146  40.470191  39.705955  40.358560   42525500   \n",
      "16 2015-01-27   MSFT  36.631836  37.095531  36.159556  36.880858  169164000   \n",
      "17 2015-01-28   MSFT  35.369545  36.743455  35.343785  36.700521   84507100   \n",
      "18 2015-01-29   MSFT  36.073689  36.168145  35.026085  35.146302   63585300   \n",
      "19 2015-01-30   MSFT  34.691196  35.704454  34.648259  35.678691   78004900   \n",
      "20 2015-02-02   MSFT  35.446842  35.524125  34.545215  34.854345   50352500   \n",
      "21 2015-02-03   MSFT  35.721638  36.005008  35.249357  35.747401   52082400   \n",
      "22 2015-02-04   MSFT  35.927700  36.245415  35.515528  36.013568   41614800   \n",
      "23 2015-02-05   MSFT  36.451519  36.614670  35.944890  36.254020   36548200   \n",
      "24 2015-02-06   MSFT  36.417179  36.743483  36.193920  36.649027   34616600   \n",
      "\n",
      "       rsi_14  \n",
      "0         NaN  \n",
      "1         NaN  \n",
      "2         NaN  \n",
      "3         NaN  \n",
      "4         NaN  \n",
      "5         NaN  \n",
      "6         NaN  \n",
      "7         NaN  \n",
      "8         NaN  \n",
      "9         NaN  \n",
      "10        NaN  \n",
      "11        NaN  \n",
      "12        NaN  \n",
      "13  52.387315  \n",
      "14  52.692469  \n",
      "15  54.509156  \n",
      "16  36.663684  \n",
      "17  29.173460  \n",
      "18  25.865149  \n",
      "19  23.414353  \n",
      "20  29.632540  \n",
      "21  31.887472  \n",
      "22  34.129412  \n",
      "23  38.443991  \n",
      "24  34.544108  \n",
      "           date ticker       close        high         low        open  \\\n",
      "1758 2021-12-27   MSFT  333.793091  333.822331  326.950533  326.979773   \n",
      "1759 2021-12-28   MSFT  332.623383  335.118665  331.716900  334.475346   \n",
      "1760 2021-12-29   MSFT  333.305725  335.596295  331.093090  332.672133   \n",
      "1761 2021-12-30   MSFT  330.742188  334.455870  330.254827  333.266710   \n",
      "1762 2021-12-31   MSFT  327.818024  330.781153  327.359904  329.952664   \n",
      "\n",
      "        volume     rsi_14  \n",
      "1758  19947000  60.439179  \n",
      "1759  15661500  54.498890  \n",
      "1760  15042000  54.915494  \n",
      "1761  15994500  54.333896  \n",
      "1762  18000800  45.238818  \n"
     ]
    }
   ],
   "source": [
    "# Test fetch\n",
    "import time\n",
    "before = time.time()\n",
    "data = db.get_ticker_data(stock_data_table_name, \"MSFT\", limit=2000)\n",
    "after = time.time()\n",
    "print(f\"Time taken: {after - before}\")\n",
    "print(data.head(25))\n",
    "print(data.tail())"
   ]
  },
  {
   "cell_type": "code",
   "execution_count": null,
   "metadata": {},
   "outputs": [],
   "source": [
    "db.drop_nans(stock_data_table_name)\n",
    "data = db.get_ticker_data(stock_data_table_name, \"MSFT\", limit=2000)\n",
    "print(f\"Time taken: {after - before}\")\n",
    "print(data.head(25))"
   ]
  },
  {
   "cell_type": "code",
   "execution_count": null,
   "metadata": {},
   "outputs": [],
   "source": [
    "window_size = 10\n",
    "simulation_length = 60\n",
    "n_envs = 3\n",
    "headers = [\"close\", \"rsi\"]\n",
    "\n",
    "te = TradingEnv(db, stock_data_table_name, tickers, window_size, simulation_length, n_envs, headers)\n",
    "\n"
   ]
  }
 ],
 "metadata": {
  "kernelspec": {
   "display_name": "PPOstockbot",
   "language": "python",
   "name": "python3"
  },
  "language_info": {
   "codemirror_mode": {
    "name": "ipython",
    "version": 3
   },
   "file_extension": ".py",
   "mimetype": "text/x-python",
   "name": "python",
   "nbconvert_exporter": "python",
   "pygments_lexer": "ipython3",
   "version": "3.13.2"
  }
 },
 "nbformat": 4,
 "nbformat_minor": 2
}
